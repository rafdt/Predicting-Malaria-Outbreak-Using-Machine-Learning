{
 "cells": [
  {
   "cell_type": "code",
   "execution_count": 11,
   "metadata": {},
   "outputs": [
    {
     "name": "stdout",
     "output_type": "stream",
     "text": [
      "0.9573333333333334\n"
     ]
    }
   ],
   "source": [
    "import numpy as np\n",
    "from sklearn.svm import SVC\n",
    "from sklearn.model_selection import train_test_split as splitter \n",
    "from sklearn.model_selection import KFold\n",
    "from sklearn.preprocessing import StandardScaler \n",
    "from sklearn.metrics import mean_squared_error as mse \n",
    "import sklearn.metrics as metrics\n",
    "from scipy import interp\n",
    "import matplotlib.pyplot as plt\n",
    "from sklearn.metrics import confusion_matrix as confusion \n",
    "\n",
    "\n",
    "features = np.genfromtxt(\"./data.csv\", delimiter=\",\", usecols=(1, 3, 4, 5))\n",
    "target = np.genfromtxt(\"./data.csv\", delimiter=\",\", usecols=8)\n",
    "X = np.delete(features,[0], axis=0)\n",
    "Y = np.delete(target, [0], axis=0)\n",
    "\n",
    "# split data into train/test sets \n",
    "x_train, x_test, y_train, y_test = splitter(X, Y, test_size=0.25, random_state=0)\n",
    "\n",
    "machine = SVC(kernel='poly', degree=3, random_state=0, gamma='auto', probability=True)\n",
    "machine.fit(x_train, y_train)\n",
    "\n",
    "score = machine.score(x_test, y_test)\n",
    "print(score)\n",
    "\n",
    "#used this:https://scikit-learn.org/stable/modules/svm.html\n",
    "#and this:https://scikit-learn.org/stable/modules/generated/sklearn.svm.SVC.html#sklearn.svm.SVC"
   ]
  },
  {
   "cell_type": "code",
   "execution_count": 12,
   "metadata": {},
   "outputs": [
    {
     "data": {
      "text/plain": [
       "\"\\nfor num in degree_counts:\\n    m = SVC(kernel='poly', degree=num, random_state=0, gamma='auto')\\n    m.fit(x_train, y_train)\\n    \\n    tr_pred = m.predict(x_train)\\n    te_pred = m.predict(x_test)\\n    train_err.append(mse(tr_pred, y_train))\\n    test_err.append(mse(te_pred, y_test))\\n    \\nplt.rcParams['figure.figsize'] = (15.0, 8.0)\\nplt.semilogy(degree_counts, cv_err, 'r', degree_counts, train_err, 'b', degree_counts, test_err, 'g', linewidth=1)\\nplt.legend(['cross validation error', 'training error', 'test error'], loc='upper left')\\n\""
      ]
     },
     "execution_count": 12,
     "metadata": {},
     "output_type": "execute_result"
    }
   ],
   "source": [
    "x_train, x_test, y_train, y_test = splitter(X, Y, test_size=0.25, random_state=0)\n",
    "\n",
    "def cv(degree, folds):\n",
    "    kf = KFold(n_splits=folds, shuffle=False)\n",
    "    err = []\n",
    "\n",
    "    for train_idx, test_idx in kf.split(x_train, y_train): \n",
    "        xtr_cv, xte_cv = x_train[train_idx], x_train[test_idx]\n",
    "        ytr_cv, yte_cv = y_train[train_idx], y_train[test_idx]\n",
    "        \n",
    "        m = SVC(kernel='poly', degree=degree, random_state=0, gamma='auto')\n",
    "        m.fit(xtr_cv, ytr_cv)\n",
    "        yte_pred = m.predict(xte_cv)\n",
    "        err.append(mse(yte_pred, yte_cv))\n",
    "    \n",
    "    return np.mean(err)\n",
    "\n",
    "degree_counts = [3, 5]\n",
    "cv_err = []\n",
    "#for num in degree_counts: \n",
    "    #cv_err.append(cv(num, 5))\n",
    "    \n",
    "# calculate train/test error for various neuron count\n",
    "train_err = []\n",
    "test_err = []\n",
    "\n",
    "'''\n",
    "for num in degree_counts:\n",
    "    m = SVC(kernel='poly', degree=num, random_state=0, gamma='auto')\n",
    "    m.fit(x_train, y_train)\n",
    "    \n",
    "    tr_pred = m.predict(x_train)\n",
    "    te_pred = m.predict(x_test)\n",
    "    train_err.append(mse(tr_pred, y_train))\n",
    "    test_err.append(mse(te_pred, y_test))\n",
    "    \n",
    "plt.rcParams['figure.figsize'] = (15.0, 8.0)\n",
    "plt.semilogy(degree_counts, cv_err, 'r', degree_counts, train_err, 'b', degree_counts, test_err, 'g', linewidth=1)\n",
    "plt.legend(['cross validation error', 'training error', 'test error'], loc='upper left')\n",
    "'''"
   ]
  },
  {
   "cell_type": "code",
   "execution_count": 13,
   "metadata": {},
   "outputs": [
    {
     "data": {
      "image/png": "[encoded data removed]",
      "text/plain": [
       "<Figure size 432x288 with 2 Axes>"
      ]
     },
     "metadata": {
      "needs_background": "light"
     },
     "output_type": "display_data"
    },
    {
     "name": "stdout",
     "output_type": "stream",
     "text": [
      "true negatives: 359\n",
      "false positive: 0\n",
      "false negatives: 16\n",
      "true positive: 0\n"
     ]
    }
   ],
   "source": [
    "def plot_confusion_matrix():\n",
    "    prediction = machine.predict(x_test)\n",
    "    matrix = confusion(y_test, prediction, [0,1])\n",
    "    \n",
    "    fig = plt.figure()\n",
    "    ax = fig.add_subplot(111)\n",
    "    cax = ax.matshow(matrix)\n",
    "    plt.title('confusion matrix')\n",
    "    fig.colorbar(cax)\n",
    "    \n",
    "    ax.xaxis.tick_bottom()\n",
    "    labels = ['no outbreak', 'outbreak']\n",
    "    ax.set_xticklabels([''] + labels)\n",
    "    ax.set_yticklabels([''] + labels)\n",
    "    plt.xlabel('true')\n",
    "    plt.ylabel('predicted')\n",
    "\n",
    "    plt.text(0, 0, str(matrix[0][0]), horizontalalignment=\"center\", verticalalignment=\"center\" ,color=\"black\")\n",
    "    plt.text(0, 1, str(matrix[0][1]), horizontalalignment=\"center\", verticalalignment=\"center\" ,color=\"white\")\n",
    "    plt.text(1, 0, str(matrix[1][0]), horizontalalignment=\"center\", verticalalignment=\"center\" ,color=\"white\")\n",
    "    plt.text(1, 1, str(matrix[1][1]), horizontalalignment=\"center\", verticalalignment=\"center\" ,color=\"white\")\n",
    "    plt.show()\n",
    "    \n",
    "    print('true negatives: {}'.format(matrix[0][0]))\n",
    "    print('false positive: {}'.format(matrix[0][1]))\n",
    "    print('false negatives: {}'.format(matrix[1][0]))\n",
    "    print('true positive: {}'.format(matrix[1][1]))\n",
    "\n",
    "plot_confusion_matrix()\n",
    "\n",
    "#used this:https://scikit-learn.org/stable/modules/generated/sklearn.metrics.confusion_matrix.html\n",
    "#and this:https://stackoverflow.com/questions/19233771/sklearn-plot-confusion-matrix-with-labels/48018785"
   ]
  },
  {
   "cell_type": "code",
   "execution_count": 14,
   "metadata": {},
   "outputs": [
    {
     "data": {
      "image/png": "[encoded data removed]",
      "text/plain": [
       "<Figure size 432x288 with 1 Axes>"
      ]
     },
     "metadata": {
      "needs_background": "light"
     },
     "output_type": "display_data"
    }
   ],
   "source": [
    "def plot_roc():\n",
    "    probs = machine.predict_proba(x_test)[:,1]\n",
    "    fpr, tpr, thresh = metrics.roc_curve(y_test, probs)\n",
    "    auc = metrics.auc(fpr, tpr)\n",
    "    \n",
    "    plt.plot(fpr, tpr, c='r', label='AUC: {}'.format(auc))\n",
    "    plt.ylabel('true positive rate')\n",
    "    plt.xlabel('false positive rate')\n",
    "    \n",
    "    plt.legend()\n",
    "    plt.show()\n",
    "    \n",
    "plot_roc()\n",
    "\n",
    "#looked at this for roc:https://scikit-learn.org/stable/modules/generated/sklearn.metrics.roc_curve.html"
   ]
  }
 ],
 "metadata": {
  "kernelspec": {
   "display_name": "Python 3",
   "language": "python",
   "name": "python3"
  },
  "language_info": {
   "codemirror_mode": {
    "name": "ipython",
    "version": 3
   },
   "file_extension": ".py",
   "mimetype": "text/x-python",
   "name": "python",
   "nbconvert_exporter": "python",
   "pygments_lexer": "ipython3",
   "version": "3.6.8"
  }
 },
 "nbformat": 4,
 "nbformat_minor": 2
}
