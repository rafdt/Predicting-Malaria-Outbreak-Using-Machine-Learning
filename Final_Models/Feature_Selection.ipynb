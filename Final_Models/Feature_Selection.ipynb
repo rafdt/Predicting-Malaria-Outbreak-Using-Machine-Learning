{
 "cells": [
  {
   "cell_type": "code",
   "execution_count": 0,
   "metadata": {
    "colab": {},
    "colab_type": "code",
    "id": "cUB5rK78t40M"
   },
   "outputs": [],
   "source": [
    "import numpy as np\n",
    "from sklearn.svm import SVC\n",
    "from sklearn.feature_selection import RFE\n",
    "import matplotlib.pyplot as plt"
   ]
  },
  {
   "cell_type": "code",
   "execution_count": 0,
   "metadata": {
    "colab": {},
    "colab_type": "code",
    "id": "M2B3gIejt40V",
    "outputId": "d13894dd-057e-444b-a0ed-c39a9c11ffd8"
   },
   "outputs": [
    {
     "name": "stdout",
     "output_type": "stream",
     "text": [
      "[False  True False  True  True  True False False]\n",
      "[4 1 3 1 1 1 2 5]\n"
     ]
    }
   ],
   "source": [
    "features = np.genfromtxt(\"./Aggregated_Data.csv\", delimiter=\",\", usecols=(0, 1, 2, 3, 4, 5, 6, 7))\n",
    "target = np.genfromtxt(\"./Aggregated_Data.csv\", delimiter=\",\", usecols=8)\n",
    "\n",
    "#the supervised learning estimator\n",
    "#I used the support vector classifer for simplicity\n",
    "#I used the a linear kernel since our data is linearly separable (1 vs 0)\n",
    "estimator = SVC(kernel=\"linear\")\n",
    "\n",
    "#recursive feature elimination coded as shown in the RFE documentation page on Scikit Learn\n",
    "#https://scikit-learn.org/stable/modules/generated/sklearn.feature_selection.RFE.html\n",
    "#the estimator is a supervised learning estimator that helps the selector\n",
    "#decide the importance of the features\n",
    "#n_features_to_select is set to None, so it selects half the features to keep\n",
    "#step is how many features to remove after each iteration (it removes the\n",
    "#least important feature each time)\n",
    "selector = RFE(estimator = estimator, n_features_to_select = None, step=1)\n",
    "selector = selector.fit(features, target)\n",
    "#support is an array of boolean values where True\n",
    "#means the feature was selected\n",
    "print(selector.support_)\n",
    "#the ranking of how important the feature is (1 being the highest)\n",
    "print(selector.ranking_)"
   ]
  },
  {
   "cell_type": "markdown",
   "metadata": {
    "colab_type": "text",
    "id": "h3vO9Dhrt40e"
   },
   "source": [
    "The important features are age, vaccination rate, UL, and CL."
   ]
  }
 ],
 "metadata": {
  "colab": {
   "name": "Feature_Selection.ipynb",
   "provenance": [],
   "version": "0.3.2"
  },
  "kernelspec": {
   "display_name": "Python 3",
   "language": "python",
   "name": "python3"
  },
  "language_info": {
   "codemirror_mode": {
    "name": "ipython",
    "version": 3
   },
   "file_extension": ".py",
   "mimetype": "text/x-python",
   "name": "python",
   "nbconvert_exporter": "python",
   "pygments_lexer": "ipython3",
   "version": "3.7.1"
  }
 },
 "nbformat": 4,
 "nbformat_minor": 1
}
